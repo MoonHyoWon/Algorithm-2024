{
 "cells": [
  {
   "cell_type": "markdown",
   "metadata": {},
   "source": [
    "##### 예제 3.1\n",
    "###### 문제정의 : 리스트에 n개의 항목들이 들어 있다. 이들을 키(key)의 순서에 따라 오름차순으로 재배치하라.\n",
    "###### 알고리즘 설명 : 정렬이 안 된 리스트에서 최솟값이 선택되면 이 값을 새로운 리스트에 저장하는 것이 아니라 첫 번째 요소와 교환한다.\n",
    "###### 손으로 푼 예제 : 이중 for문을 이용하여 0부터 차례대로 원소 값을 비교하여 가장 작은 것이 있다면 위치를 바꾸는 문제이다.\n",
    "###### 알고리즘 개요(입력 변수, 출력, 알고리즘 개요) : \n",
    "###### 입력 변수 : [5, 3, 8, 4, 9, 1, 6, 2, 7] -> 정렬이 되지 않은 상태\n",
    "###### 출력 : [1, 2, 3, 4, 5, 6, 7, 8, 9] -> 정렬된 상태\n",
    "###### 알고리즘 개요 : 선택 정렬"
   ]
  },
  {
   "cell_type": "code",
   "execution_count": 1,
   "metadata": {},
   "outputs": [
    {
     "name": "stdout",
     "output_type": "stream",
     "text": [
      "Original:  [5, 3, 8, 4, 9, 1, 6, 2, 7]\n",
      "Step  1 :  [1, 3, 8, 4, 9, 5, 6, 2, 7]\n",
      "Step  2 :  [1, 2, 8, 4, 9, 5, 6, 3, 7]\n",
      "Step  3 :  [1, 2, 3, 4, 9, 5, 6, 8, 7]\n",
      "Step  4 :  [1, 2, 3, 4, 9, 5, 6, 8, 7]\n",
      "Step  5 :  [1, 2, 3, 4, 5, 9, 6, 8, 7]\n",
      "Step  6 :  [1, 2, 3, 4, 5, 6, 9, 8, 7]\n",
      "Step  7 :  [1, 2, 3, 4, 5, 6, 7, 8, 9]\n",
      "Step  8 :  [1, 2, 3, 4, 5, 6, 7, 8, 9]\n",
      "Selection :  [1, 2, 3, 4, 5, 6, 7, 8, 9]\n"
     ]
    }
   ],
   "source": [
    "#알고리즘 코드\n",
    "def selection_sort(A):\n",
    "    n = len(A)\n",
    "    for i in range(n-1):\n",
    "        least = i\n",
    "        for j in range(i+1, n):\n",
    "            if(A[j]<A[least]):\n",
    "                least = j\n",
    "        A[i], A[least] = A[least], A[i]\n",
    "        print(\"Step \", i+1, \": \", A)\n",
    "\n",
    "data = [5, 3, 8, 4, 9, 1, 6, 2, 7]\n",
    "print(\"Original: \", data)\n",
    "selection_sort(data)\n",
    "print(\"Selection : \", data)"
   ]
  },
  {
   "cell_type": "code",
   "execution_count": 2,
   "metadata": {},
   "outputs": [
    {
     "name": "stdout",
     "output_type": "stream",
     "text": [
      "Original:  [3, 4, 2, 7, 8, 6, 9, 5, 1]\n",
      "Step  1 :  [1, 4, 2, 7, 8, 6, 9, 5, 3]\n",
      "Step  2 :  [1, 2, 4, 7, 8, 6, 9, 5, 3]\n",
      "Step  3 :  [1, 2, 3, 7, 8, 6, 9, 5, 4]\n",
      "Step  4 :  [1, 2, 3, 4, 8, 6, 9, 5, 7]\n",
      "Step  5 :  [1, 2, 3, 4, 5, 6, 9, 8, 7]\n",
      "Step  6 :  [1, 2, 3, 4, 5, 6, 9, 8, 7]\n",
      "Step  7 :  [1, 2, 3, 4, 5, 6, 7, 8, 9]\n",
      "Step  8 :  [1, 2, 3, 4, 5, 6, 7, 8, 9]\n",
      "Selection :  [1, 2, 3, 4, 5, 6, 7, 8, 9]\n"
     ]
    }
   ],
   "source": [
    "#테스트 코드\n",
    "def selection_sort(A):\n",
    "    n = len(A)\n",
    "    for i in range(n-1):\n",
    "        least = i\n",
    "        for j in range(i+1, n):\n",
    "            if(A[j]<A[least]):\n",
    "                least = j\n",
    "        A[i], A[least] = A[least], A[i]\n",
    "        print(\"Step \", i+1, \": \", A)\n",
    "\n",
    "data = [3, 4, 2, 7, 8, 6, 9, 5, 1]\n",
    "print(\"Original: \", data)\n",
    "selection_sort(data)\n",
    "print(\"Selection : \", data)"
   ]
  }
 ],
 "metadata": {
  "kernelspec": {
   "display_name": "Python 3",
   "language": "python",
   "name": "python3"
  },
  "language_info": {
   "codemirror_mode": {
    "name": "ipython",
    "version": 3
   },
   "file_extension": ".py",
   "mimetype": "text/x-python",
   "name": "python",
   "nbconvert_exporter": "python",
   "pygments_lexer": "ipython3",
   "version": "3.11.9"
  }
 },
 "nbformat": 4,
 "nbformat_minor": 2
}
