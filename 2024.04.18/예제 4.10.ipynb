{
 "cells": [
  {
   "cell_type": "markdown",
   "metadata": {},
   "source": [
    "##### 예제 4.10 정렬을 이용한 k번재 작은 수 찾기\n",
    "  1) 문제 정의 (MD) : 리스트에서 k번재로 작은 항목을 찾아라. 단, 리스트는 정렬되어 있지 않다.\n",
    "  2) 알고리즘 설명  (MD) :\n",
    "  3) 손으로 푼 예제 (MD, 이미지 삽입) : \n",
    "  4) 코드 개요(입력 변수, 출력, 함수 설명) (MD) : \n",
    "  ###### 4.0. 함수 명 : kth_smallest_sort\n",
    "  ###### 4.1. 입력 변수 : 리스트와 출력할 n번째의 위치(n-1)\n",
    "  ###### 4.2. 출력 : 정렬된 리스트의 n-1번째 인덱스 값\n",
    "  ###### 4.3. 함수 설명 : A.sort를 통해 리스트를 정렬시키고, return A[k-1]을 통해 k번째의 원소 값을 리턴시킨다.\n",
    "  5) 코드 (PY,C) : \n",
    "  6) 테스트 코드  (PY,C) , 입력을 바꾸어서 : \n",
    "  7) 수행 결과 (MD, 결과 캡처하여 이미지로 삽입) : \n",
    "  8) 복잡도 분석 (MD) : 따로 반복문이나 조건문에 거치는 것 없이 리턴으로 값이 반환되므로 O(1)일 것이라고 생각합니다.\n",
    "  9) 협력 내용(조별, 팀별) : \n",
    "  ###### 아영 : 4.3 4.5 4.6\n",
    "  ###### 대환 선배님 : 4.7 4.8\n",
    "  ###### 은선 : 4.1 4.2 \n",
    "  ###### 효원 : 4.4 4.10 4.11(+4.12) //4.10의 내용이 적은 것과 4.11이나 4.12와 연결되어 있기에 선택 되었습니다.\n",
    "###### Github 반드시 업로드\n",
    "###### 추후 과제 종합점수에 추가 반영 (일목요연하게 내용을 잘 정리할 것)"
   ]
  },
  {
   "cell_type": "code",
   "execution_count": 4,
   "metadata": {},
   "outputs": [
    {
     "name": "stdout",
     "output_type": "stream",
     "text": [
      "[정렬기법] 3번째 작은 수:  7\n",
      "[정렬기법] 3번째 작은 수:  20\n"
     ]
    }
   ],
   "source": [
    "#5) 코드\n",
    "def kth_smallest_sort(A, k):\n",
    "    A.sort()\n",
    "    return A[k-1]\n",
    "\n",
    "#6) 테스트 코드\n",
    "A=[7, 10, 4, 3, 20, 15]\n",
    "A.sort()\n",
    "A.sort(reverse=True)\n",
    "\n",
    "B = sorted(A, reverse=True)\n",
    "\n",
    "print(\"[정렬기법] 3번째 작은 수: \", kth_smallest_sort(A, 3))\n",
    "print(\"[정렬기법] 6번째 작은 수: \", kth_smallest_sort(B, 6))"
   ]
  }
 ],
 "metadata": {
  "kernelspec": {
   "display_name": "Python 3",
   "language": "python",
   "name": "python3"
  },
  "language_info": {
   "codemirror_mode": {
    "name": "ipython",
    "version": 3
   },
   "file_extension": ".py",
   "mimetype": "text/x-python",
   "name": "python",
   "nbconvert_exporter": "python",
   "pygments_lexer": "ipython3",
   "version": "3.11.9"
  }
 },
 "nbformat": 4,
 "nbformat_minor": 2
}
