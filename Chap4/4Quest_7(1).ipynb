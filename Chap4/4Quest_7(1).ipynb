{
 "cells": [
  {
   "cell_type": "code",
   "execution_count": 4,
   "metadata": {},
   "outputs": [
    {
     "name": "stdout",
     "output_type": "stream",
     "text": [
      "DFS :  A D E "
     ]
    },
    {
     "ename": "TypeError",
     "evalue": "unsupported operand type(s) for -: 'dict' and 'set'",
     "output_type": "error",
     "traceback": [
      "\u001b[1;31m---------------------------------------------------------------------------\u001b[0m",
      "\u001b[1;31mTypeError\u001b[0m                                 Traceback (most recent call last)",
      "Cell \u001b[1;32mIn[4], line 19\u001b[0m\n\u001b[0;32m      9\u001b[0m mygraph \u001b[38;5;241m=\u001b[39m  {\u001b[38;5;124m\"\u001b[39m\u001b[38;5;124mA\u001b[39m\u001b[38;5;124m\"\u001b[39m:{\u001b[38;5;124m\"\u001b[39m\u001b[38;5;124mB\u001b[39m\u001b[38;5;124m\"\u001b[39m, \u001b[38;5;124m\"\u001b[39m\u001b[38;5;124mD\u001b[39m\u001b[38;5;124m\"\u001b[39m, \u001b[38;5;124m\"\u001b[39m\u001b[38;5;124mE\u001b[39m\u001b[38;5;124m\"\u001b[39m}, \n\u001b[0;32m     10\u001b[0m             \u001b[38;5;124m\"\u001b[39m\u001b[38;5;124mB\u001b[39m\u001b[38;5;124m\"\u001b[39m:{\u001b[38;5;124m\"\u001b[39m\u001b[38;5;124mC\u001b[39m\u001b[38;5;124m\"\u001b[39m, \u001b[38;5;124m\"\u001b[39m\u001b[38;5;124mE\u001b[39m\u001b[38;5;124m\"\u001b[39m, \u001b[38;5;124m\"\u001b[39m\u001b[38;5;124mF\u001b[39m\u001b[38;5;124m\"\u001b[39m}, \n\u001b[0;32m     11\u001b[0m             \u001b[38;5;124m\"\u001b[39m\u001b[38;5;124mC\u001b[39m\u001b[38;5;124m\"\u001b[39m:{\u001b[38;5;124m\"\u001b[39m\u001b[38;5;124mG\u001b[39m\u001b[38;5;124m\"\u001b[39m}, \n\u001b[1;32m   (...)\u001b[0m\n\u001b[0;32m     15\u001b[0m             \u001b[38;5;124m\"\u001b[39m\u001b[38;5;124mG\u001b[39m\u001b[38;5;124m\"\u001b[39m:{}\n\u001b[0;32m     16\u001b[0m             }\n\u001b[0;32m     18\u001b[0m \u001b[38;5;28mprint\u001b[39m(\u001b[38;5;124m'\u001b[39m\u001b[38;5;124mDFS : \u001b[39m\u001b[38;5;124m'\u001b[39m, end\u001b[38;5;241m=\u001b[39m \u001b[38;5;124m\"\u001b[39m\u001b[38;5;124m \u001b[39m\u001b[38;5;124m\"\u001b[39m)\n\u001b[1;32m---> 19\u001b[0m \u001b[43mdfs\u001b[49m\u001b[43m(\u001b[49m\u001b[43mmygraph\u001b[49m\u001b[43m,\u001b[49m\u001b[43m \u001b[49m\u001b[38;5;124;43m\"\u001b[39;49m\u001b[38;5;124;43mA\u001b[39;49m\u001b[38;5;124;43m\"\u001b[39;49m\u001b[43m,\u001b[49m\u001b[43m \u001b[49m\u001b[38;5;28;43mset\u001b[39;49m\u001b[43m(\u001b[49m\u001b[43m)\u001b[49m\u001b[43m)\u001b[49m\n\u001b[0;32m     20\u001b[0m \u001b[38;5;28mprint\u001b[39m()\n",
      "Cell \u001b[1;32mIn[4], line 7\u001b[0m, in \u001b[0;36mdfs\u001b[1;34m(graph, start, visited)\u001b[0m\n\u001b[0;32m      5\u001b[0m nbr \u001b[38;5;241m=\u001b[39m graph[start] \u001b[38;5;241m-\u001b[39m visited\n\u001b[0;32m      6\u001b[0m \u001b[38;5;28;01mfor\u001b[39;00m v \u001b[38;5;129;01min\u001b[39;00m nbr:\n\u001b[1;32m----> 7\u001b[0m     \u001b[43mdfs\u001b[49m\u001b[43m(\u001b[49m\u001b[43mgraph\u001b[49m\u001b[43m,\u001b[49m\u001b[43m \u001b[49m\u001b[43mv\u001b[49m\u001b[43m,\u001b[49m\u001b[43m \u001b[49m\u001b[43mvisited\u001b[49m\u001b[43m)\u001b[49m\n",
      "Cell \u001b[1;32mIn[4], line 7\u001b[0m, in \u001b[0;36mdfs\u001b[1;34m(graph, start, visited)\u001b[0m\n\u001b[0;32m      5\u001b[0m nbr \u001b[38;5;241m=\u001b[39m graph[start] \u001b[38;5;241m-\u001b[39m visited\n\u001b[0;32m      6\u001b[0m \u001b[38;5;28;01mfor\u001b[39;00m v \u001b[38;5;129;01min\u001b[39;00m nbr:\n\u001b[1;32m----> 7\u001b[0m     \u001b[43mdfs\u001b[49m\u001b[43m(\u001b[49m\u001b[43mgraph\u001b[49m\u001b[43m,\u001b[49m\u001b[43m \u001b[49m\u001b[43mv\u001b[49m\u001b[43m,\u001b[49m\u001b[43m \u001b[49m\u001b[43mvisited\u001b[49m\u001b[43m)\u001b[49m\n",
      "Cell \u001b[1;32mIn[4], line 5\u001b[0m, in \u001b[0;36mdfs\u001b[1;34m(graph, start, visited)\u001b[0m\n\u001b[0;32m      3\u001b[0m visited\u001b[38;5;241m.\u001b[39madd(start)\n\u001b[0;32m      4\u001b[0m \u001b[38;5;28mprint\u001b[39m(start, end\u001b[38;5;241m=\u001b[39m \u001b[38;5;124m\"\u001b[39m\u001b[38;5;124m \u001b[39m\u001b[38;5;124m\"\u001b[39m)\n\u001b[1;32m----> 5\u001b[0m nbr \u001b[38;5;241m=\u001b[39m \u001b[43mgraph\u001b[49m\u001b[43m[\u001b[49m\u001b[43mstart\u001b[49m\u001b[43m]\u001b[49m\u001b[43m \u001b[49m\u001b[38;5;241;43m-\u001b[39;49m\u001b[43m \u001b[49m\u001b[43mvisited\u001b[49m\n\u001b[0;32m      6\u001b[0m \u001b[38;5;28;01mfor\u001b[39;00m v \u001b[38;5;129;01min\u001b[39;00m nbr:\n\u001b[0;32m      7\u001b[0m     dfs(graph, v, visited)\n",
      "\u001b[1;31mTypeError\u001b[0m: unsupported operand type(s) for -: 'dict' and 'set'"
     ]
    }
   ],
   "source": [
    "#testCode 1\n",
    "def dfs(graph, start, visited):\n",
    "    if start not in visited:\n",
    "        visited.add(start)\n",
    "        print(start, end= \" \")\n",
    "        nbr = graph[start] - visited\n",
    "        for v in nbr:\n",
    "            dfs(graph, v, visited)\n",
    "\n",
    "mygraph =  {\"A\":{\"B\", \"D\", \"E\"}, \n",
    "            \"B\":{\"C\", \"E\", \"F\"}, \n",
    "            \"C\":{\"G\"}, \n",
    "            \"D\":{\"E\"}, \n",
    "            \"E\":{}, \n",
    "            \"F\":{\"G\"}, \n",
    "            \"G\":{}\n",
    "            }\n",
    "\n",
    "print('DFS : ', end= \" \")\n",
    "dfs(mygraph, \"A\", set())\n",
    "print()"
   ]
  },
  {
   "cell_type": "code",
   "execution_count": 5,
   "metadata": {},
   "outputs": [
    {
     "name": "stdout",
     "output_type": "stream",
     "text": [
      "DFS :  A B F C G D E \n"
     ]
    }
   ],
   "source": [
    "#testCode 4\n",
    "def topological_sort(graph) :\n",
    "    inDeg = {}\n",
    "    for v in graph:\n",
    "        inDeg[v] = 0\n",
    "    for v in graph:\n",
    "        for u in graph[v]:\n",
    "            inDeg[u] += 1\n",
    "    \n",
    "    vlist = []\n",
    "    for v in graph:\n",
    "        if inDeg[v] == 0:\n",
    "            vlist.append(v)\n",
    "    \n",
    "    while vlist:\n",
    "        v = vlist.pop()\n",
    "        print(v, end=' ')\n",
    "\n",
    "        for u in graph[v]:\n",
    "            inDeg[u] -= 1\n",
    "            if inDeg[u] == 0:\n",
    "\n",
    "                vlist.append(u)\n",
    "\n",
    "mygraph =  {\"A\":{\"B\", \"D\", \"E\"}, \n",
    "            \"B\":{\"C\", \"E\", \"F\"}, \n",
    "            \"C\":{\"G\"}, \n",
    "            \"D\":{\"E\"}, \n",
    "            \"E\":{}, \n",
    "            \"F\":{\"G\"}, \n",
    "            \"G\":{}\n",
    "            }\n",
    "\n",
    "print('DFS : ', end= \" \")\n",
    "topological_sort(mygraph)\n",
    "print()\n"
   ]
  },
  {
   "cell_type": "code",
   "execution_count": null,
   "metadata": {},
   "outputs": [],
   "source": []
  }
 ],
 "metadata": {
  "kernelspec": {
   "display_name": "Python 3",
   "language": "python",
   "name": "python3"
  },
  "language_info": {
   "codemirror_mode": {
    "name": "ipython",
    "version": 3
   },
   "file_extension": ".py",
   "mimetype": "text/x-python",
   "name": "python",
   "nbconvert_exporter": "python",
   "pygments_lexer": "ipython3",
   "version": "3.11.9"
  }
 },
 "nbformat": 4,
 "nbformat_minor": 2
}
