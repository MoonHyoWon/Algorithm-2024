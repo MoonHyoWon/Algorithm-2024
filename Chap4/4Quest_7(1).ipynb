{
 "cells": [
  {
   "cell_type": "code",
   "execution_count": 6,
   "metadata": {},
   "outputs": [
    {
     "name": "stdout",
     "output_type": "stream",
     "text": [
      "DFS :  A B F C G D E \n"
     ]
    }
   ],
   "source": [
    "#testCode 1\n",
    "def topological_sort(graph) :\n",
    "    inDeg = {}\n",
    "    for v in graph:\n",
    "        inDeg[v] = 0\n",
    "    for v in graph:\n",
    "        for u in graph[v]:\n",
    "            inDeg[u] += 1\n",
    "    \n",
    "    vlist = []\n",
    "    for v in graph:\n",
    "        if inDeg[v] == 0:\n",
    "            vlist.append(v)\n",
    "    \n",
    "    while vlist:\n",
    "        v = vlist.pop()\n",
    "        print(v, end=' ')\n",
    "\n",
    "        for u in graph[v]:\n",
    "            inDeg[u] -= 1\n",
    "            if inDeg[u] == 0:\n",
    "\n",
    "                vlist.append(u)\n",
    "\n",
    "mygraph =  {\"A\":{\"B\", \"D\", \"E\"}, \n",
    "            \"B\":{\"C\", \"E\", \"F\"}, \n",
    "            \"C\":{\"G\"}, \n",
    "            \"D\":{\"E\"}, \n",
    "            \"E\":{}, \n",
    "            \"F\":{\"G\"}, \n",
    "            \"G\":{}\n",
    "            }\n",
    "\n",
    "print('DFS : ', end= \" \")\n",
    "topological_sort(mygraph)\n",
    "print()"
   ]
  },
  {
   "cell_type": "code",
   "execution_count": 5,
   "metadata": {},
   "outputs": [
    {
     "name": "stdout",
     "output_type": "stream",
     "text": [
      "DFS :  A B F C G D E \n"
     ]
    }
   ],
   "source": [
    "#testCode 4\n",
    "def topological_sort(graph) :\n",
    "    inDeg = {}\n",
    "    for v in graph:\n",
    "        inDeg[v] = 0\n",
    "    for v in graph:\n",
    "        for u in graph[v]:\n",
    "            inDeg[u] += 1\n",
    "    \n",
    "    vlist = []\n",
    "    for v in graph:\n",
    "        if inDeg[v] == 0:\n",
    "            vlist.append(v)\n",
    "    \n",
    "    while vlist:\n",
    "        v = vlist.pop()\n",
    "        print(v, end=' ')\n",
    "\n",
    "        for u in graph[v]:\n",
    "            inDeg[u] -= 1\n",
    "            if inDeg[u] == 0:\n",
    "\n",
    "                vlist.append(u)\n",
    "\n",
    "mygraph =  {\"A\":{\"B\", \"D\"}, \n",
    "            \"B\":{\"C\", \"E\", \"F\"}, \n",
    "            \"C\":{\"G\"}, \n",
    "            \"D\":{\"E\"}, \n",
    "            \"E\":{}, \n",
    "            \"F\":{\"G\"}, \n",
    "            \"G\":{}\n",
    "            }\n",
    "\n",
    "print('DFS : ', end= \" \")\n",
    "topological_sort(mygraph)\n",
    "print()\n"
   ]
  },
  {
   "cell_type": "code",
   "execution_count": null,
   "metadata": {},
   "outputs": [],
   "source": []
  }
 ],
 "metadata": {
  "kernelspec": {
   "display_name": "Python 3",
   "language": "python",
   "name": "python3"
  },
  "language_info": {
   "codemirror_mode": {
    "name": "ipython",
    "version": 3
   },
   "file_extension": ".py",
   "mimetype": "text/x-python",
   "name": "python",
   "nbconvert_exporter": "python",
   "pygments_lexer": "ipython3",
   "version": "3.11.9"
  }
 },
 "nbformat": 4,
 "nbformat_minor": 2
}
