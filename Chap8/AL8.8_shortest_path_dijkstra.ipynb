{
 "cells": [
  {
   "cell_type": "markdown",
   "metadata": {},
   "source": [
    "1) 문제 정의 (MD) : Dijkstra의 최단 경로 알고리즘\n",
    "\n",
    "2) 알고리즘 설명  (MD) : \n",
    "\n",
    "3) 손으로 푼 예제 (MD, 이미지 삽입) : \n",
    "\n",
    "4) 코드 개요(입력 변수, 출력, 함수 설명) (MD) :\n",
    " ##### 입력 변수 : \n",
    " ##### 출력 : \n",
    " ##### 함수 설명 : "
   ]
  },
  {
   "cell_type": "code",
   "execution_count": null,
   "metadata": {},
   "outputs": [],
   "source": [
    "# 5) 코드 (PY,C) : \n",
    "# 알고리즘 8.4 dist 배열에서 최소 가중치를 가진 정점을 찾는 알고리즘\n",
    "def getMinVertex(dist, selected):\n",
    "    minv = -1\n",
    "    mindist = INF\n",
    "    for i in range(len(dist)):\n",
    "        if not selected[v] and dist[v] < mindist:\n",
    "            mindist = dist[v]\n",
    "            minv = v\n",
    "    return minv\n",
    "\n",
    "# 알고리즘 8.8 Dijkstra의 최단 경로 알고리즘\n",
    "def shortest_path_dijkstra(vtx, adj, start):\n",
    "    vsize = len(vtx)\n",
    "    dist = list(adj[start])\n",
    "    dist[start] = 0\n",
    "    path = [start] * vsize\n",
    "    found = [False] * vsize\n",
    "    found[start] = True\n",
    "\n",
    "    for i in range(vsize):\n",
    "        print(\"Step%2d: \" % (i+1), dist)\n",
    "        u = getMinVertex(dist, found)\n",
    "        found[u] = True\n",
    "\n",
    "        for w in range(vsize):\n",
    "            if not found[w]:\n",
    "                if dist[u] + adj[u][w] < dist[w]:\n",
    "                    dist[w] = dist[u] + adj[u][w]\n",
    "                    path[w] = u\n",
    "\n",
    "    return path"
   ]
  },
  {
   "cell_type": "code",
   "execution_count": null,
   "metadata": {},
   "outputs": [],
   "source": [
    "# 6) 테스트 코드  (PY,C) , 입력을 바꾸어서 : \n",
    "vertex = []\n",
    "weight = []\n",
    "\n",
    "print(\"Shortest Path By Dijkstra Algorithm\")\n",
    "start = 0\n",
    "path = shortest_path_dijkstra(vertex, weight, start)\n",
    "\n",
    "for end in range(len(vertex)):\n",
    "    if end != start:\n",
    "        print(\"[최단경로: %s -> %s] %s\" % )"
   ]
  },
  {
   "cell_type": "markdown",
   "metadata": {},
   "source": [
    "7) 수행 결과 (MD, 결과 캡춰하여 이미지로 삽입) : \n",
    "8) 복잡도 분석 (MD) : 전체 복잡도는 O(n^2)입니다. \n",
    "9) 협력 내용(조별, 팀별) : 팀 별로 각자 담당한 코드를 서로 공유하며 이해시키도록 하였습니다.\n",
    " 1. 대환 선배님 : 알고리즘 8.1\n",
    " 2. 아영 : 알고리즘 8.2\n",
    " 3. 효원 : 알고리즘 8.8, 8.\n",
    " 4. 은선 : 알고리즘 8."
   ]
  }
 ],
 "metadata": {
  "language_info": {
   "name": "python"
  }
 },
 "nbformat": 4,
 "nbformat_minor": 2
}
